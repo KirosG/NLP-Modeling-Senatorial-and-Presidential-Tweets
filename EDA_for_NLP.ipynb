{
 "cells": [
  {
   "cell_type": "markdown",
   "metadata": {},
   "source": [
    "##  Tweets From Obama, Trump, and All U.S. Senators"
   ]
  },
  {
   "cell_type": "markdown",
   "metadata": {},
   "source": [
    "#### Importing Libraries "
   ]
  },
  {
   "cell_type": "code",
   "execution_count": 1,
   "metadata": {},
   "outputs": [],
   "source": [
    "import numpy as np\n",
    "import pandas as pd \n",
    "import re"
   ]
  },
  {
   "cell_type": "markdown",
   "metadata": {},
   "source": [
    "#### Reading in CSV & making initial data frames"
   ]
  },
  {
   "cell_type": "code",
   "execution_count": 2,
   "metadata": {},
   "outputs": [],
   "source": [
    "obama_data = pd.read_csv(\"./twitter-ratio/BarackObama_e.csv\")\n",
    "df_obama = pd.DataFrame(obama_data)\n",
    "\n",
    "trump_data = pd.read_csv(\"./twitter-ratio/realDonaldTrump_e.csv\")\n",
    "df_trump = pd.DataFrame(trump_data)\n",
    "\n",
    "senator_data = pd.read_csv(\"./twitter-ratio/senators_e.csv\")\n",
    "df_senator = pd.DataFrame(senator_data)"
   ]
  },
  {
   "cell_type": "markdown",
   "metadata": {},
   "source": [
    "##### Initial Look at Obama's Tweets"
   ]
  },
  {
   "cell_type": "code",
   "execution_count": 6,
   "metadata": {},
   "outputs": [
    {
     "name": "stdout",
     "output_type": "stream",
     "text": [
      "(3207, 7) \n",
      "\n",
      "<class 'pandas.core.frame.DataFrame'>\n",
      "RangeIndex: 3207 entries, 0 to 3206\n",
      "Data columns (total 7 columns):\n",
      "created_at    3207 non-null object\n",
      "text          3207 non-null object\n",
      "url           3207 non-null object\n",
      "replies       3207 non-null int64\n",
      "retweets      3207 non-null int64\n",
      "favorites     3207 non-null int64\n",
      "user          3207 non-null object\n",
      "dtypes: int64(3), object(4)\n",
      "memory usage: 175.5+ KB\n",
      "\n",
      " None\n"
     ]
    },
    {
     "data": {
      "text/html": [
       "<div>\n",
       "<style scoped>\n",
       "    .dataframe tbody tr th:only-of-type {\n",
       "        vertical-align: middle;\n",
       "    }\n",
       "\n",
       "    .dataframe tbody tr th {\n",
       "        vertical-align: top;\n",
       "    }\n",
       "\n",
       "    .dataframe thead th {\n",
       "        text-align: right;\n",
       "    }\n",
       "</style>\n",
       "<table border=\"1\" class=\"dataframe\">\n",
       "  <thead>\n",
       "    <tr style=\"text-align: right;\">\n",
       "      <th></th>\n",
       "      <th>created_at</th>\n",
       "      <th>text</th>\n",
       "      <th>url</th>\n",
       "      <th>replies</th>\n",
       "      <th>retweets</th>\n",
       "      <th>favorites</th>\n",
       "      <th>user</th>\n",
       "    </tr>\n",
       "  </thead>\n",
       "  <tbody>\n",
       "    <tr>\n",
       "      <th>0</th>\n",
       "      <td>10/16/17 22:59</td>\n",
       "      <td>I'm grateful to @SenJohnMcCain for his lifetim...</td>\n",
       "      <td>https://twitter.com/BarackObama/status/9200615...</td>\n",
       "      <td>17064</td>\n",
       "      <td>89916</td>\n",
       "      <td>641842</td>\n",
       "      <td>BarackObama</td>\n",
       "    </tr>\n",
       "    <tr>\n",
       "      <th>1</th>\n",
       "      <td>10/2/17 12:41</td>\n",
       "      <td>Michelle &amp;amp; I are praying for the victims i...</td>\n",
       "      <td>https://twitter.com/BarackObama/status/9148326...</td>\n",
       "      <td>21588</td>\n",
       "      <td>405895</td>\n",
       "      <td>1715753</td>\n",
       "      <td>BarackObama</td>\n",
       "    </tr>\n",
       "    <tr>\n",
       "      <th>2</th>\n",
       "      <td>9/30/17 2:22</td>\n",
       "      <td>Proud to cheer on Team USA at the Invictus Gam...</td>\n",
       "      <td>https://twitter.com/BarackObama/status/9139520...</td>\n",
       "      <td>8476</td>\n",
       "      <td>60651</td>\n",
       "      <td>503255</td>\n",
       "      <td>BarackObama</td>\n",
       "    </tr>\n",
       "    <tr>\n",
       "      <th>3</th>\n",
       "      <td>9/26/17 17:03</td>\n",
       "      <td>We're expanding our efforts to help Puerto Ric...</td>\n",
       "      <td>https://twitter.com/BarackObama/status/9127244...</td>\n",
       "      <td>10657</td>\n",
       "      <td>113807</td>\n",
       "      <td>334901</td>\n",
       "      <td>BarackObama</td>\n",
       "    </tr>\n",
       "    <tr>\n",
       "      <th>4</th>\n",
       "      <td>9/25/17 23:36</td>\n",
       "      <td>Prosecutor, soldier, family man, citizen. Beau...</td>\n",
       "      <td>https://twitter.com/BarackObama/status/9124608...</td>\n",
       "      <td>3886</td>\n",
       "      <td>58449</td>\n",
       "      <td>328106</td>\n",
       "      <td>BarackObama</td>\n",
       "    </tr>\n",
       "  </tbody>\n",
       "</table>\n",
       "</div>"
      ],
      "text/plain": [
       "       created_at                                               text  \\\n",
       "0  10/16/17 22:59  I'm grateful to @SenJohnMcCain for his lifetim...   \n",
       "1   10/2/17 12:41  Michelle &amp; I are praying for the victims i...   \n",
       "2    9/30/17 2:22  Proud to cheer on Team USA at the Invictus Gam...   \n",
       "3   9/26/17 17:03  We're expanding our efforts to help Puerto Ric...   \n",
       "4   9/25/17 23:36  Prosecutor, soldier, family man, citizen. Beau...   \n",
       "\n",
       "                                                 url  replies  retweets  \\\n",
       "0  https://twitter.com/BarackObama/status/9200615...    17064     89916   \n",
       "1  https://twitter.com/BarackObama/status/9148326...    21588    405895   \n",
       "2  https://twitter.com/BarackObama/status/9139520...     8476     60651   \n",
       "3  https://twitter.com/BarackObama/status/9127244...    10657    113807   \n",
       "4  https://twitter.com/BarackObama/status/9124608...     3886     58449   \n",
       "\n",
       "   favorites         user  \n",
       "0     641842  BarackObama  \n",
       "1    1715753  BarackObama  \n",
       "2     503255  BarackObama  \n",
       "3     334901  BarackObama  \n",
       "4     328106  BarackObama  "
      ]
     },
     "execution_count": 6,
     "metadata": {},
     "output_type": "execute_result"
    }
   ],
   "source": [
    "print(df_obama.shape,'\\n')\n",
    "print('\\n',df_obama.info())\n",
    "df_obama.head()"
   ]
  },
  {
   "cell_type": "markdown",
   "metadata": {},
   "source": [
    "##### Initial Look at Trumps's Tweets"
   ]
  },
  {
   "cell_type": "code",
   "execution_count": 7,
   "metadata": {},
   "outputs": [
    {
     "name": "stdout",
     "output_type": "stream",
     "text": [
      "(3232, 7) \n",
      "\n",
      "<class 'pandas.core.frame.DataFrame'>\n",
      "RangeIndex: 3232 entries, 0 to 3231\n",
      "Data columns (total 7 columns):\n",
      "created_at    3232 non-null object\n",
      "text          3232 non-null object\n",
      "url           3232 non-null object\n",
      "replies       3232 non-null int64\n",
      "retweets      3232 non-null int64\n",
      "favorites     3232 non-null int64\n",
      "user          3232 non-null object\n",
      "dtypes: int64(3), object(4)\n",
      "memory usage: 176.8+ KB\n",
      "\n",
      " None\n"
     ]
    },
    {
     "data": {
      "text/html": [
       "<div>\n",
       "<style scoped>\n",
       "    .dataframe tbody tr th:only-of-type {\n",
       "        vertical-align: middle;\n",
       "    }\n",
       "\n",
       "    .dataframe tbody tr th {\n",
       "        vertical-align: top;\n",
       "    }\n",
       "\n",
       "    .dataframe thead th {\n",
       "        text-align: right;\n",
       "    }\n",
       "</style>\n",
       "<table border=\"1\" class=\"dataframe\">\n",
       "  <thead>\n",
       "    <tr style=\"text-align: right;\">\n",
       "      <th></th>\n",
       "      <th>created_at</th>\n",
       "      <th>text</th>\n",
       "      <th>url</th>\n",
       "      <th>replies</th>\n",
       "      <th>retweets</th>\n",
       "      <th>favorites</th>\n",
       "      <th>user</th>\n",
       "    </tr>\n",
       "  </thead>\n",
       "  <tbody>\n",
       "    <tr>\n",
       "      <th>0</th>\n",
       "      <td>10/23/17 12:30</td>\n",
       "      <td>I had a very respectful conversation with the ...</td>\n",
       "      <td>https://twitter.com/realDonaldTrump/status/922...</td>\n",
       "      <td>46228</td>\n",
       "      <td>10243</td>\n",
       "      <td>49468</td>\n",
       "      <td>realDonaldTrump</td>\n",
       "    </tr>\n",
       "    <tr>\n",
       "      <th>1</th>\n",
       "      <td>10/23/17 11:53</td>\n",
       "      <td>Two dozen NFL players continue to kneel during...</td>\n",
       "      <td>https://twitter.com/realDonaldTrump/status/922...</td>\n",
       "      <td>31419</td>\n",
       "      <td>14006</td>\n",
       "      <td>62406</td>\n",
       "      <td>realDonaldTrump</td>\n",
       "    </tr>\n",
       "    <tr>\n",
       "      <th>2</th>\n",
       "      <td>10/23/17 11:42</td>\n",
       "      <td>There will be NO change to your 401(k). This h...</td>\n",
       "      <td>https://twitter.com/realDonaldTrump/status/922...</td>\n",
       "      <td>9552</td>\n",
       "      <td>13719</td>\n",
       "      <td>62662</td>\n",
       "      <td>realDonaldTrump</td>\n",
       "    </tr>\n",
       "    <tr>\n",
       "      <th>3</th>\n",
       "      <td>10/22/17 12:08</td>\n",
       "      <td>It is finally sinking through. 46% OF PEOPLE B...</td>\n",
       "      <td>https://twitter.com/realDonaldTrump/status/922...</td>\n",
       "      <td>56238</td>\n",
       "      <td>25102</td>\n",
       "      <td>112890</td>\n",
       "      <td>realDonaldTrump</td>\n",
       "    </tr>\n",
       "    <tr>\n",
       "      <th>4</th>\n",
       "      <td>10/22/17 12:02</td>\n",
       "      <td>Wacky Congresswoman Wilson is the gift that ke...</td>\n",
       "      <td>https://twitter.com/realDonaldTrump/status/922...</td>\n",
       "      <td>32136</td>\n",
       "      <td>21573</td>\n",
       "      <td>97145</td>\n",
       "      <td>realDonaldTrump</td>\n",
       "    </tr>\n",
       "  </tbody>\n",
       "</table>\n",
       "</div>"
      ],
      "text/plain": [
       "       created_at                                               text  \\\n",
       "0  10/23/17 12:30  I had a very respectful conversation with the ...   \n",
       "1  10/23/17 11:53  Two dozen NFL players continue to kneel during...   \n",
       "2  10/23/17 11:42  There will be NO change to your 401(k). This h...   \n",
       "3  10/22/17 12:08  It is finally sinking through. 46% OF PEOPLE B...   \n",
       "4  10/22/17 12:02  Wacky Congresswoman Wilson is the gift that ke...   \n",
       "\n",
       "                                                 url  replies  retweets  \\\n",
       "0  https://twitter.com/realDonaldTrump/status/922...    46228     10243   \n",
       "1  https://twitter.com/realDonaldTrump/status/922...    31419     14006   \n",
       "2  https://twitter.com/realDonaldTrump/status/922...     9552     13719   \n",
       "3  https://twitter.com/realDonaldTrump/status/922...    56238     25102   \n",
       "4  https://twitter.com/realDonaldTrump/status/922...    32136     21573   \n",
       "\n",
       "   favorites             user  \n",
       "0      49468  realDonaldTrump  \n",
       "1      62406  realDonaldTrump  \n",
       "2      62662  realDonaldTrump  \n",
       "3     112890  realDonaldTrump  \n",
       "4      97145  realDonaldTrump  "
      ]
     },
     "execution_count": 7,
     "metadata": {},
     "output_type": "execute_result"
    }
   ],
   "source": [
    "print(df_trump.shape,'\\n')\n",
    "print('\\n',df_trump.info())\n",
    "df_trump.head()"
   ]
  },
  {
   "cell_type": "markdown",
   "metadata": {},
   "source": [
    "##### Initial Look @ Sentaor Tweets"
   ]
  },
  {
   "cell_type": "code",
   "execution_count": 8,
   "metadata": {},
   "outputs": [
    {
     "name": "stdout",
     "output_type": "stream",
     "text": [
      "(288615, 10) \n",
      "\n",
      "<class 'pandas.core.frame.DataFrame'>\n",
      "RangeIndex: 288615 entries, 0 to 288614\n",
      "Data columns (total 10 columns):\n",
      "created_at     288615 non-null object\n",
      "text           288615 non-null object\n",
      "url            288615 non-null object\n",
      "replies        288615 non-null int64\n",
      "retweets       288615 non-null int64\n",
      "favorites      288615 non-null int64\n",
      "user           288615 non-null object\n",
      "bioguide_id    288615 non-null object\n",
      "party          288615 non-null object\n",
      "state          288615 non-null object\n",
      "dtypes: int64(3), object(7)\n",
      "memory usage: 22.0+ MB\n",
      "\n",
      " None\n"
     ]
    },
    {
     "data": {
      "text/html": [
       "<div>\n",
       "<style scoped>\n",
       "    .dataframe tbody tr th:only-of-type {\n",
       "        vertical-align: middle;\n",
       "    }\n",
       "\n",
       "    .dataframe tbody tr th {\n",
       "        vertical-align: top;\n",
       "    }\n",
       "\n",
       "    .dataframe thead th {\n",
       "        text-align: right;\n",
       "    }\n",
       "</style>\n",
       "<table border=\"1\" class=\"dataframe\">\n",
       "  <thead>\n",
       "    <tr style=\"text-align: right;\">\n",
       "      <th></th>\n",
       "      <th>created_at</th>\n",
       "      <th>text</th>\n",
       "      <th>url</th>\n",
       "      <th>replies</th>\n",
       "      <th>retweets</th>\n",
       "      <th>favorites</th>\n",
       "      <th>user</th>\n",
       "      <th>bioguide_id</th>\n",
       "      <th>party</th>\n",
       "      <th>state</th>\n",
       "    </tr>\n",
       "  </thead>\n",
       "  <tbody>\n",
       "    <tr>\n",
       "      <th>0</th>\n",
       "      <td>10/19/17 21:47</td>\n",
       "      <td>We released bipartisan healthcare bill today &amp;...</td>\n",
       "      <td>https://twitter.com/amyklobuchar/status/921130...</td>\n",
       "      <td>21</td>\n",
       "      <td>129</td>\n",
       "      <td>533</td>\n",
       "      <td>amyklobuchar</td>\n",
       "      <td>K000367</td>\n",
       "      <td>D</td>\n",
       "      <td>MN</td>\n",
       "    </tr>\n",
       "    <tr>\n",
       "      <th>1</th>\n",
       "      <td>10/19/17 18:48</td>\n",
       "      <td>I spoke with @Morning_Joe team abt #HonestAds ...</td>\n",
       "      <td>https://twitter.com/amyklobuchar/status/921085...</td>\n",
       "      <td>8</td>\n",
       "      <td>46</td>\n",
       "      <td>150</td>\n",
       "      <td>amyklobuchar</td>\n",
       "      <td>K000367</td>\n",
       "      <td>D</td>\n",
       "      <td>MN</td>\n",
       "    </tr>\n",
       "    <tr>\n",
       "      <th>2</th>\n",
       "      <td>10/19/17 18:14</td>\n",
       "      <td>Lots of interest in my bill with Senators Warn...</td>\n",
       "      <td>https://twitter.com/amyklobuchar/status/921077...</td>\n",
       "      <td>36</td>\n",
       "      <td>227</td>\n",
       "      <td>932</td>\n",
       "      <td>amyklobuchar</td>\n",
       "      <td>K000367</td>\n",
       "      <td>D</td>\n",
       "      <td>MN</td>\n",
       "    </tr>\n",
       "    <tr>\n",
       "      <th>3</th>\n",
       "      <td>10/19/17 18:04</td>\n",
       "      <td>Today's the day @MarkWarner, @SenJohnMcCain &amp;a...</td>\n",
       "      <td>https://twitter.com/amyklobuchar/status/921074...</td>\n",
       "      <td>17</td>\n",
       "      <td>167</td>\n",
       "      <td>550</td>\n",
       "      <td>amyklobuchar</td>\n",
       "      <td>K000367</td>\n",
       "      <td>D</td>\n",
       "      <td>MN</td>\n",
       "    </tr>\n",
       "    <tr>\n",
       "      <th>4</th>\n",
       "      <td>10/19/17 16:33</td>\n",
       "      <td>.@MarkWarner, @SenJohnMcCain &amp;amp; I put toget...</td>\n",
       "      <td>https://twitter.com/amyklobuchar/status/921051...</td>\n",
       "      <td>31</td>\n",
       "      <td>279</td>\n",
       "      <td>893</td>\n",
       "      <td>amyklobuchar</td>\n",
       "      <td>K000367</td>\n",
       "      <td>D</td>\n",
       "      <td>MN</td>\n",
       "    </tr>\n",
       "  </tbody>\n",
       "</table>\n",
       "</div>"
      ],
      "text/plain": [
       "       created_at                                               text  \\\n",
       "0  10/19/17 21:47  We released bipartisan healthcare bill today &...   \n",
       "1  10/19/17 18:48  I spoke with @Morning_Joe team abt #HonestAds ...   \n",
       "2  10/19/17 18:14  Lots of interest in my bill with Senators Warn...   \n",
       "3  10/19/17 18:04  Today's the day @MarkWarner, @SenJohnMcCain &a...   \n",
       "4  10/19/17 16:33  .@MarkWarner, @SenJohnMcCain &amp; I put toget...   \n",
       "\n",
       "                                                 url  replies  retweets  \\\n",
       "0  https://twitter.com/amyklobuchar/status/921130...       21       129   \n",
       "1  https://twitter.com/amyklobuchar/status/921085...        8        46   \n",
       "2  https://twitter.com/amyklobuchar/status/921077...       36       227   \n",
       "3  https://twitter.com/amyklobuchar/status/921074...       17       167   \n",
       "4  https://twitter.com/amyklobuchar/status/921051...       31       279   \n",
       "\n",
       "   favorites          user bioguide_id party state  \n",
       "0        533  amyklobuchar     K000367     D    MN  \n",
       "1        150  amyklobuchar     K000367     D    MN  \n",
       "2        932  amyklobuchar     K000367     D    MN  \n",
       "3        550  amyklobuchar     K000367     D    MN  \n",
       "4        893  amyklobuchar     K000367     D    MN  "
      ]
     },
     "execution_count": 8,
     "metadata": {},
     "output_type": "execute_result"
    }
   ],
   "source": [
    "print(df_senator.shape,'\\n')\n",
    "print('\\n',df_senator.info())\n",
    "df_senator.head()"
   ]
  },
  {
   "cell_type": "markdown",
   "metadata": {},
   "source": [
    "##### Initial Data Cleaning"
   ]
  },
  {
   "cell_type": "code",
   "execution_count": 9,
   "metadata": {},
   "outputs": [],
   "source": [
    "#'bioguide_id' is an official ID, assigned by Congress, that works as a unique identifier \n",
    "#'user' field is unique for each senator; dropping bioguide_id so it's easier to merge data frames \n",
    "\n",
    "df_senator.drop(columns = 'bioguide_id', # column I want to drop\n",
    "                axis = 1, # specifying column\n",
    "                inplace = True) # will ensure drop sticks "
   ]
  },
  {
   "cell_type": "code",
   "execution_count": 10,
   "metadata": {},
   "outputs": [
    {
     "name": "stdout",
     "output_type": "stream",
     "text": [
      "Columns for Obama df: Index(['created_at', 'text', 'url', 'replies', 'retweets', 'favorites', 'user',\n",
      "       'party', 'state'],\n",
      "      dtype='object')\n",
      "\n",
      "Columns for Trump df: Index(['created_at', 'text', 'url', 'replies', 'retweets', 'favorites', 'user',\n",
      "       'party', 'state'],\n",
      "      dtype='object')\n",
      "\n",
      "Columns for Senators df: Index(['created_at', 'text', 'url', 'replies', 'retweets', 'favorites', 'user',\n",
      "       'party', 'state'],\n",
      "      dtype='object')\n"
     ]
    }
   ],
   "source": [
    "# Adding 'party' feature to df_obama and populating with 'D' for Democrat \n",
    "df_obama['party'] = 'D'\n",
    "\n",
    "# Adding 'party' feature to df_trump and populating with 'R' for Republican \n",
    "df_trump['party'] = 'R'\n",
    "\n",
    "# Adding 'state' feature to df_trump & df_obama. State will be equal to 'US'\n",
    "df_obama['state'] = 'US'\n",
    "df_trump['state'] = 'US'\n",
    "\n",
    "# Sanity Check \n",
    "print(\"Columns for Obama df:\", df_obama.columns)\n",
    "print(\"\\nColumns for Trump df:\", df_trump.columns)\n",
    "print(\"\\nColumns for Senators df:\", df_senator.columns)"
   ]
  },
  {
   "cell_type": "markdown",
   "metadata": {},
   "source": [
    "##### Creating Master Data Frame"
   ]
  },
  {
   "cell_type": "code",
   "execution_count": 11,
   "metadata": {},
   "outputs": [
    {
     "name": "stdout",
     "output_type": "stream",
     "text": [
      "(295054, 10)\n"
     ]
    },
    {
     "data": {
      "text/html": [
       "<div>\n",
       "<style scoped>\n",
       "    .dataframe tbody tr th:only-of-type {\n",
       "        vertical-align: middle;\n",
       "    }\n",
       "\n",
       "    .dataframe tbody tr th {\n",
       "        vertical-align: top;\n",
       "    }\n",
       "\n",
       "    .dataframe thead th {\n",
       "        text-align: right;\n",
       "    }\n",
       "</style>\n",
       "<table border=\"1\" class=\"dataframe\">\n",
       "  <thead>\n",
       "    <tr style=\"text-align: right;\">\n",
       "      <th></th>\n",
       "      <th>index</th>\n",
       "      <th>created_at</th>\n",
       "      <th>text</th>\n",
       "      <th>url</th>\n",
       "      <th>replies</th>\n",
       "      <th>retweets</th>\n",
       "      <th>favorites</th>\n",
       "      <th>user</th>\n",
       "      <th>party</th>\n",
       "      <th>state</th>\n",
       "    </tr>\n",
       "  </thead>\n",
       "  <tbody>\n",
       "    <tr>\n",
       "      <th>0</th>\n",
       "      <td>0</td>\n",
       "      <td>10/16/17 22:59</td>\n",
       "      <td>I'm grateful to @SenJohnMcCain for his lifetim...</td>\n",
       "      <td>https://twitter.com/BarackObama/status/9200615...</td>\n",
       "      <td>17064</td>\n",
       "      <td>89916</td>\n",
       "      <td>641842</td>\n",
       "      <td>BarackObama</td>\n",
       "      <td>D</td>\n",
       "      <td>US</td>\n",
       "    </tr>\n",
       "    <tr>\n",
       "      <th>1</th>\n",
       "      <td>1</td>\n",
       "      <td>10/2/17 12:41</td>\n",
       "      <td>Michelle &amp;amp; I are praying for the victims i...</td>\n",
       "      <td>https://twitter.com/BarackObama/status/9148326...</td>\n",
       "      <td>21588</td>\n",
       "      <td>405895</td>\n",
       "      <td>1715753</td>\n",
       "      <td>BarackObama</td>\n",
       "      <td>D</td>\n",
       "      <td>US</td>\n",
       "    </tr>\n",
       "    <tr>\n",
       "      <th>2</th>\n",
       "      <td>2</td>\n",
       "      <td>9/30/17 2:22</td>\n",
       "      <td>Proud to cheer on Team USA at the Invictus Gam...</td>\n",
       "      <td>https://twitter.com/BarackObama/status/9139520...</td>\n",
       "      <td>8476</td>\n",
       "      <td>60651</td>\n",
       "      <td>503255</td>\n",
       "      <td>BarackObama</td>\n",
       "      <td>D</td>\n",
       "      <td>US</td>\n",
       "    </tr>\n",
       "  </tbody>\n",
       "</table>\n",
       "</div>"
      ],
      "text/plain": [
       "   index      created_at                                               text  \\\n",
       "0      0  10/16/17 22:59  I'm grateful to @SenJohnMcCain for his lifetim...   \n",
       "1      1   10/2/17 12:41  Michelle &amp; I are praying for the victims i...   \n",
       "2      2    9/30/17 2:22  Proud to cheer on Team USA at the Invictus Gam...   \n",
       "\n",
       "                                                 url  replies  retweets  \\\n",
       "0  https://twitter.com/BarackObama/status/9200615...    17064     89916   \n",
       "1  https://twitter.com/BarackObama/status/9148326...    21588    405895   \n",
       "2  https://twitter.com/BarackObama/status/9139520...     8476     60651   \n",
       "\n",
       "   favorites         user party state  \n",
       "0     641842  BarackObama     D    US  \n",
       "1    1715753  BarackObama     D    US  \n",
       "2     503255  BarackObama     D    US  "
      ]
     },
     "execution_count": 11,
     "metadata": {},
     "output_type": "execute_result"
    }
   ],
   "source": [
    "# creating variable called 'frames', which is a list of the 3 dataframes \n",
    "frames = [df_obama, df_senator, df_trump]\n",
    "\n",
    "# converting 'frames' to single dataframe\n",
    "df = pd.concat(frames)\n",
    "type(df)\n",
    "\n",
    "# resetting index\n",
    "df.reset_index(inplace = True)\n",
    "\n",
    "print(df.shape)\n",
    "df.head(3)"
   ]
  },
  {
   "cell_type": "markdown",
   "metadata": {},
   "source": [
    "##### Creating President Data Frame"
   ]
  },
  {
   "cell_type": "code",
   "execution_count": 15,
   "metadata": {},
   "outputs": [
    {
     "name": "stdout",
     "output_type": "stream",
     "text": [
      "(6439, 9)\n"
     ]
    }
   ],
   "source": [
    "# variable of just presidential tweets \n",
    "frame_pres = [df_obama, df_trump]\n",
    "\n",
    "# making a president only data frame \n",
    "df_pres = pd.concat(frame_pres)\n",
    "\n",
    "# Resetting the index \n",
    "df_pres.reset_index(inplace = True)\n",
    "\n",
    "df_pres.drop(columns = 'index', axis = 1, inplace = True)\n",
    "\n",
    "print(df_pres.shape)"
   ]
  },
  {
   "cell_type": "code",
   "execution_count": 16,
   "metadata": {},
   "outputs": [
    {
     "name": "stdout",
     "output_type": "stream",
     "text": [
      "0    0.501941\n",
      "1    0.498059\n",
      "Name: user, dtype: float64\n"
     ]
    }
   ],
   "source": [
    "# converting target variable ('user') binary \n",
    "df_pres['user'] = df_pres['user'].map({'BarackObama':1, 'realDonaldTrump':0})\n",
    "\n",
    "# Binary Description \n",
    "    # Trump == 0 \n",
    "    # Obama == 1\n",
    "# are my classes balanced? (yes)\n",
    "print(df_pres['user'].value_counts(normalize = True))"
   ]
  },
  {
   "cell_type": "markdown",
   "metadata": {},
   "source": [
    "##### Cleaning 'text' using lambda "
   ]
  },
  {
   "cell_type": "code",
   "execution_count": 17,
   "metadata": {},
   "outputs": [],
   "source": [
    "# replacing '&amp;' with '&'\n",
    "df['text'] = df['text'].map(lambda ampersand: ampersand.replace(\"&amp;\", \"&\"))\n",
    "df_pres['text'] = df_pres['text'].map(lambda ampersand: ampersand.replace(\"&amp;\", \"&\"))\n",
    "\n",
    "# replacing '‰ÛÒ' with '–'\n",
    "df['text'] = df['text'].map(lambda dash: dash.replace(\"‰ÛÒ\", '–'))\n",
    "df_pres['text'] = df_pres['text'].map(lambda dash: dash.replace(\"‰ÛÒ\", '–'))\n",
    "\n",
    "# replacing '‰ÏÓ•üè' with nothing\n",
    "df['text'] = df['text'].map(lambda check: check.replace('‰ÏÓ•üè', ''))\n",
    "df_pres['text'] = df_pres['text'].map(lambda check: check.replace('‰ÏÓ•üè', ''))\n",
    "\n",
    "# replacing '\\r' with nothing \n",
    "df['text'] = df['text'].map(lambda r: r.replace('\\r', ''))\n",
    "df_pres['text'] = df_pres['text'].map(lambda r: r.replace('\\r', ''))"
   ]
  },
  {
   "cell_type": "markdown",
   "metadata": {},
   "source": [
    "#### Function to remove non ASCII characters that are within words with no spaces "
   ]
  },
  {
   "cell_type": "code",
   "execution_count": null,
   "metadata": {},
   "outputs": [],
   "source": [
    "# This is going to allow me to replace any non-ascii characters with '-'\n",
    "\n",
    "def _removeNonAscii(s):\n",
    "    my_str=''\n",
    "    for i in s:\n",
    "        if ord(i)<128:\n",
    "            my_str=my_str+i\n",
    "        else:\n",
    "            my_str=my_str+'-'\n",
    "    return my_str"
   ]
  },
  {
   "cell_type": "markdown",
   "metadata": {},
   "source": [
    "#### For loops to iterate over df['text']"
   ]
  },
  {
   "cell_type": "markdown",
   "metadata": {},
   "source": [
    "--> Using REGEX, I am iterating over df['text'] and looking for any non ASCII characters and removing them.\n",
    "--> This for loop is calling the _removeNonAscii function, replacing each non ASCII character with a '-'. \n",
    "--> This was a time-intensive process, so I am exporting the cleaned data to a new CSV 'ALLDATA_2'"
   ]
  },
  {
   "cell_type": "code",
   "execution_count": null,
   "metadata": {},
   "outputs": [],
   "source": [
    "for i in range(0,df_all.shape[0]):\n",
    "    if len(re.findall(r'([^0-9A-z\\r:.\\'\\/@\\s])', df_all[['text']].iloc[i,0]) )>0:\n",
    "        df_all.iloc[i,1] = _removeNonAscii(df_all[['text']].iloc[i,0])"
   ]
  },
  {
   "cell_type": "code",
   "execution_count": 2,
   "metadata": {},
   "outputs": [
    {
     "ename": "NameError",
     "evalue": "name 'df_all' is not defined",
     "output_type": "error",
     "traceback": [
      "\u001b[0;31m---------------------------------------------------------------------------\u001b[0m",
      "\u001b[0;31mNameError\u001b[0m                                 Traceback (most recent call last)",
      "\u001b[0;32m<ipython-input-2-80aa64731656>\u001b[0m in \u001b[0;36m<module>\u001b[0;34m\u001b[0m\n\u001b[1;32m      1\u001b[0m \u001b[0;31m# exporting cleaned data to csv\u001b[0m\u001b[0;34m\u001b[0m\u001b[0;34m\u001b[0m\u001b[0m\n\u001b[0;32m----> 2\u001b[0;31m \u001b[0mdf_all\u001b[0m\u001b[0;34m.\u001b[0m\u001b[0mto_csv\u001b[0m\u001b[0;34m(\u001b[0m\u001b[0;34m'../capstone/ALLDATA_2.csv'\u001b[0m\u001b[0;34m)\u001b[0m\u001b[0;34m\u001b[0m\u001b[0m\n\u001b[0m",
      "\u001b[0;31mNameError\u001b[0m: name 'df_all' is not defined"
     ]
    }
   ],
   "source": [
    "# exporting cleaned data to csv \n",
    "df_all.to_csv('../capstone/ALLDATA_2.csv')"
   ]
  },
  {
   "cell_type": "code",
   "execution_count": 19,
   "metadata": {},
   "outputs": [
    {
     "name": "stdout",
     "output_type": "stream",
     "text": [
      "(295054, 9)\n"
     ]
    },
    {
     "data": {
      "text/html": [
       "<div>\n",
       "<style scoped>\n",
       "    .dataframe tbody tr th:only-of-type {\n",
       "        vertical-align: middle;\n",
       "    }\n",
       "\n",
       "    .dataframe tbody tr th {\n",
       "        vertical-align: top;\n",
       "    }\n",
       "\n",
       "    .dataframe thead th {\n",
       "        text-align: right;\n",
       "    }\n",
       "</style>\n",
       "<table border=\"1\" class=\"dataframe\">\n",
       "  <thead>\n",
       "    <tr style=\"text-align: right;\">\n",
       "      <th></th>\n",
       "      <th>created_at</th>\n",
       "      <th>text</th>\n",
       "      <th>url</th>\n",
       "      <th>replies</th>\n",
       "      <th>retweets</th>\n",
       "      <th>favorites</th>\n",
       "      <th>user</th>\n",
       "      <th>party</th>\n",
       "      <th>state</th>\n",
       "    </tr>\n",
       "  </thead>\n",
       "  <tbody>\n",
       "    <tr>\n",
       "      <th>0</th>\n",
       "      <td>10/16/17 22:59</td>\n",
       "      <td>I'm grateful to @SenJohnMcCain for his lifetim...</td>\n",
       "      <td>https://twitter.com/BarackObama/status/9200615...</td>\n",
       "      <td>17064</td>\n",
       "      <td>89916</td>\n",
       "      <td>641842</td>\n",
       "      <td>BarackObama</td>\n",
       "      <td>D</td>\n",
       "      <td>US</td>\n",
       "    </tr>\n",
       "    <tr>\n",
       "      <th>1</th>\n",
       "      <td>10/2/17 12:41</td>\n",
       "      <td>Michelle &amp; I are praying for the victims in La...</td>\n",
       "      <td>https://twitter.com/BarackObama/status/9148326...</td>\n",
       "      <td>21588</td>\n",
       "      <td>405895</td>\n",
       "      <td>1715753</td>\n",
       "      <td>BarackObama</td>\n",
       "      <td>D</td>\n",
       "      <td>US</td>\n",
       "    </tr>\n",
       "  </tbody>\n",
       "</table>\n",
       "</div>"
      ],
      "text/plain": [
       "       created_at                                               text  \\\n",
       "0  10/16/17 22:59  I'm grateful to @SenJohnMcCain for his lifetim...   \n",
       "1   10/2/17 12:41  Michelle & I are praying for the victims in La...   \n",
       "\n",
       "                                                 url  replies  retweets  \\\n",
       "0  https://twitter.com/BarackObama/status/9200615...    17064     89916   \n",
       "1  https://twitter.com/BarackObama/status/9148326...    21588    405895   \n",
       "\n",
       "   favorites         user party state  \n",
       "0     641842  BarackObama     D    US  \n",
       "1    1715753  BarackObama     D    US  "
      ]
     },
     "execution_count": 19,
     "metadata": {},
     "output_type": "execute_result"
    }
   ],
   "source": [
    "# reading in cleaned CSV\n",
    "data_all = pd.read_csv('../capstone/ALLDATA_2.csv')\n",
    "\n",
    "# creating a new DF \n",
    "df_all = pd.DataFrame(data_all)\n",
    "\n",
    "# Dropping uncessary column \n",
    "df_all.drop(columns = 'Unnamed: 0', axis = 1, inplace = True)\n",
    "\n",
    "# Sanity check \n",
    "print(df_all.shape)\n",
    "df_all.head(2)"
   ]
  },
  {
   "cell_type": "markdown",
   "metadata": {},
   "source": [
    "#### For loops to iterate over df_pres['text']"
   ]
  },
  {
   "cell_type": "code",
   "execution_count": null,
   "metadata": {},
   "outputs": [],
   "source": [
    "for i in range(0,df_pres.shape[0]):\n",
    "    if len(re.findall(r'([^0-9A-z\\r:.\\'\\/@\\s])', df_pres[['text']].iloc[i,0]) )>0:\n",
    "        df_pres.iloc[i,1] = _removeNonAscii(df_pres[['text']].iloc[i,0])"
   ]
  },
  {
   "cell_type": "code",
   "execution_count": null,
   "metadata": {},
   "outputs": [],
   "source": [
    "# exporting cleaned data to CSV \n",
    "df_pres.to_csv('../capstone/PRESDATA.csv')"
   ]
  },
  {
   "cell_type": "code",
   "execution_count": 21,
   "metadata": {},
   "outputs": [
    {
     "name": "stdout",
     "output_type": "stream",
     "text": [
      "(6439, 9)\n"
     ]
    },
    {
     "data": {
      "text/html": [
       "<div>\n",
       "<style scoped>\n",
       "    .dataframe tbody tr th:only-of-type {\n",
       "        vertical-align: middle;\n",
       "    }\n",
       "\n",
       "    .dataframe tbody tr th {\n",
       "        vertical-align: top;\n",
       "    }\n",
       "\n",
       "    .dataframe thead th {\n",
       "        text-align: right;\n",
       "    }\n",
       "</style>\n",
       "<table border=\"1\" class=\"dataframe\">\n",
       "  <thead>\n",
       "    <tr style=\"text-align: right;\">\n",
       "      <th></th>\n",
       "      <th>created_at</th>\n",
       "      <th>text</th>\n",
       "      <th>url</th>\n",
       "      <th>replies</th>\n",
       "      <th>retweets</th>\n",
       "      <th>favorites</th>\n",
       "      <th>user</th>\n",
       "      <th>party</th>\n",
       "      <th>state</th>\n",
       "    </tr>\n",
       "  </thead>\n",
       "  <tbody>\n",
       "    <tr>\n",
       "      <th>0</th>\n",
       "      <td>10/16/17 22:59</td>\n",
       "      <td>I'm grateful to @SenJohnMcCain for his lifetim...</td>\n",
       "      <td>https://twitter.com/BarackObama/status/9200615...</td>\n",
       "      <td>17064</td>\n",
       "      <td>89916</td>\n",
       "      <td>641842</td>\n",
       "      <td>1</td>\n",
       "      <td>D</td>\n",
       "      <td>US</td>\n",
       "    </tr>\n",
       "    <tr>\n",
       "      <th>1</th>\n",
       "      <td>10/2/17 12:41</td>\n",
       "      <td>Michelle &amp; I are praying for the victims in La...</td>\n",
       "      <td>https://twitter.com/BarackObama/status/9148326...</td>\n",
       "      <td>21588</td>\n",
       "      <td>405895</td>\n",
       "      <td>1715753</td>\n",
       "      <td>1</td>\n",
       "      <td>D</td>\n",
       "      <td>US</td>\n",
       "    </tr>\n",
       "    <tr>\n",
       "      <th>2</th>\n",
       "      <td>9/30/17 2:22</td>\n",
       "      <td>Proud to cheer on Team USA at the Invictus Gam...</td>\n",
       "      <td>https://twitter.com/BarackObama/status/9139520...</td>\n",
       "      <td>8476</td>\n",
       "      <td>60651</td>\n",
       "      <td>503255</td>\n",
       "      <td>1</td>\n",
       "      <td>D</td>\n",
       "      <td>US</td>\n",
       "    </tr>\n",
       "  </tbody>\n",
       "</table>\n",
       "</div>"
      ],
      "text/plain": [
       "       created_at                                               text  \\\n",
       "0  10/16/17 22:59  I'm grateful to @SenJohnMcCain for his lifetim...   \n",
       "1   10/2/17 12:41  Michelle & I are praying for the victims in La...   \n",
       "2    9/30/17 2:22  Proud to cheer on Team USA at the Invictus Gam...   \n",
       "\n",
       "                                                 url  replies  retweets  \\\n",
       "0  https://twitter.com/BarackObama/status/9200615...    17064     89916   \n",
       "1  https://twitter.com/BarackObama/status/9148326...    21588    405895   \n",
       "2  https://twitter.com/BarackObama/status/9139520...     8476     60651   \n",
       "\n",
       "   favorites  user party state  \n",
       "0     641842     1     D    US  \n",
       "1    1715753     1     D    US  \n",
       "2     503255     1     D    US  "
      ]
     },
     "execution_count": 21,
     "metadata": {},
     "output_type": "execute_result"
    }
   ],
   "source": [
    "pres_data_2 = pd.read_csv('../capstone/PRESDATA.csv')\n",
    "\n",
    "df_pres_2 = pd.DataFrame(pres_data_2)\n",
    "\n",
    "df_pres_2.drop(columns = 'Unnamed: 0', axis = 1, inplace = True)\n",
    "\n",
    "print(df_pres_2.shape)\n",
    "df_pres_2.head(3)"
   ]
  }
 ],
 "metadata": {
  "kernelspec": {
   "display_name": "Python 3",
   "language": "python",
   "name": "python3"
  },
  "language_info": {
   "codemirror_mode": {
    "name": "ipython",
    "version": 3
   },
   "file_extension": ".py",
   "mimetype": "text/x-python",
   "name": "python",
   "nbconvert_exporter": "python",
   "pygments_lexer": "ipython3",
   "version": "3.6.5"
  }
 },
 "nbformat": 4,
 "nbformat_minor": 2
}
