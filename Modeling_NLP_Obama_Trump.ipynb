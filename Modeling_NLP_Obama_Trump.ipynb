{
 "cells": [
  {
   "cell_type": "markdown",
   "metadata": {},
   "source": [
    "##  Tweets From Obama, Trump"
   ]
  },
  {
   "cell_type": "markdown",
   "metadata": {},
   "source": [
    "#### Importing Libraries "
   ]
  },
  {
   "cell_type": "code",
   "execution_count": 4,
   "metadata": {},
   "outputs": [],
   "source": [
    "import numpy as np \n",
    "import pandas as pd\n",
    "from sklearn.feature_extraction.text import CountVectorizer, TfidfVectorizer\n",
    "from nltk.corpus import stopwords\n",
    "from sklearn.model_selection import train_test_split, GridSearchCV\n",
    "from sklearn.naive_bayes import MultinomialNB, BernoulliNB\n",
    "from sklearn.pipeline import Pipeline\n",
    "from sklearn.ensemble import RandomForestClassifier, ExtraTreesClassifier\n",
    "from sklearn.metrics import accuracy_score, confusion_matrix"
   ]
  },
  {
   "cell_type": "markdown",
   "metadata": {},
   "source": [
    "#### Importing Cleaned Data"
   ]
  },
  {
   "cell_type": "code",
   "execution_count": 8,
   "metadata": {},
   "outputs": [
    {
     "name": "stdout",
     "output_type": "stream",
     "text": [
      "(6439, 9)\n"
     ]
    },
    {
     "data": {
      "text/html": [
       "<div>\n",
       "<style scoped>\n",
       "    .dataframe tbody tr th:only-of-type {\n",
       "        vertical-align: middle;\n",
       "    }\n",
       "\n",
       "    .dataframe tbody tr th {\n",
       "        vertical-align: top;\n",
       "    }\n",
       "\n",
       "    .dataframe thead th {\n",
       "        text-align: right;\n",
       "    }\n",
       "</style>\n",
       "<table border=\"1\" class=\"dataframe\">\n",
       "  <thead>\n",
       "    <tr style=\"text-align: right;\">\n",
       "      <th></th>\n",
       "      <th>created_at</th>\n",
       "      <th>text</th>\n",
       "      <th>url</th>\n",
       "      <th>replies</th>\n",
       "      <th>retweets</th>\n",
       "      <th>favorites</th>\n",
       "      <th>user</th>\n",
       "      <th>party</th>\n",
       "      <th>state</th>\n",
       "    </tr>\n",
       "  </thead>\n",
       "  <tbody>\n",
       "    <tr>\n",
       "      <th>0</th>\n",
       "      <td>10/16/17 22:59</td>\n",
       "      <td>I'm grateful to @SenJohnMcCain for his lifetim...</td>\n",
       "      <td>https://twitter.com/BarackObama/status/9200615...</td>\n",
       "      <td>17064</td>\n",
       "      <td>89916</td>\n",
       "      <td>641842</td>\n",
       "      <td>1</td>\n",
       "      <td>D</td>\n",
       "      <td>US</td>\n",
       "    </tr>\n",
       "    <tr>\n",
       "      <th>1</th>\n",
       "      <td>10/2/17 12:41</td>\n",
       "      <td>Michelle &amp; I are praying for the victims in La...</td>\n",
       "      <td>https://twitter.com/BarackObama/status/9148326...</td>\n",
       "      <td>21588</td>\n",
       "      <td>405895</td>\n",
       "      <td>1715753</td>\n",
       "      <td>1</td>\n",
       "      <td>D</td>\n",
       "      <td>US</td>\n",
       "    </tr>\n",
       "  </tbody>\n",
       "</table>\n",
       "</div>"
      ],
      "text/plain": [
       "       created_at                                               text  \\\n",
       "0  10/16/17 22:59  I'm grateful to @SenJohnMcCain for his lifetim...   \n",
       "1   10/2/17 12:41  Michelle & I are praying for the victims in La...   \n",
       "\n",
       "                                                 url  replies  retweets  \\\n",
       "0  https://twitter.com/BarackObama/status/9200615...    17064     89916   \n",
       "1  https://twitter.com/BarackObama/status/9148326...    21588    405895   \n",
       "\n",
       "   favorites  user party state  \n",
       "0     641842     1     D    US  \n",
       "1    1715753     1     D    US  "
      ]
     },
     "execution_count": 8,
     "metadata": {},
     "output_type": "execute_result"
    }
   ],
   "source": [
    "pres_data = pd.read_csv('../capstone/PRESDATA.csv')\n",
    "\n",
    "df_pres = pd.DataFrame(pres_data)\n",
    "\n",
    "df_pres.drop(columns = 'Unnamed: 0', axis = 1, inplace = True)\n",
    "\n",
    "print(df_pres.shape)\n",
    "df_pres.head(2)"
   ]
  },
  {
   "cell_type": "markdown",
   "metadata": {},
   "source": [
    "### Question: Who wrote this tweet? (Obama or Trump)"
   ]
  },
  {
   "cell_type": "markdown",
   "metadata": {},
   "source": [
    "##### Train Test Split"
   ]
  },
  {
   "cell_type": "code",
   "execution_count": 9,
   "metadata": {},
   "outputs": [
    {
     "data": {
      "text/plain": [
       "((5151,), (1288,))"
      ]
     },
     "execution_count": 9,
     "metadata": {},
     "output_type": "execute_result"
    }
   ],
   "source": [
    "# Setting up X and y \n",
    "X = df_pres['text']\n",
    "y = df_pres['user']\n",
    "\n",
    "# Train Test Split \n",
    "X_train, X_test, y_train, y_test = train_test_split(X, y, \n",
    "                                                   random_state = 18, \n",
    "                                                   test_size = 0.20, \n",
    "                                                   stratify = y)\n",
    "\n",
    "X_train.shape, X_test.shape"
   ]
  },
  {
   "cell_type": "markdown",
   "metadata": {},
   "source": [
    "##### Count Vectorizer & Multinomial Naiive Bayes "
   ]
  },
  {
   "cell_type": "code",
   "execution_count": 10,
   "metadata": {},
   "outputs": [
    {
     "data": {
      "text/plain": [
       "GridSearchCV(cv=None, error_score='raise',\n",
       "       estimator=Pipeline(memory=None,\n",
       "     steps=[('cv', CountVectorizer(analyzer='word', binary=False, decode_error='strict',\n",
       "        dtype=<class 'numpy.int64'>, encoding='utf-8', input='content',\n",
       "        lowercase=True, max_df=1.0, max_features=None, min_df=1,\n",
       "        ngram_range=(1, 1), preprocessor=None, stop_words=None,\n",
       "        strip_accents=None, token_pattern='(?u)\\\\b\\\\w\\\\w+\\\\b',\n",
       "        tokenizer=None, vocabulary=None)), ('mnb', MultinomialNB(alpha=1.0, class_prior=None, fit_prior=True))]),\n",
       "       fit_params=None, iid=True, n_jobs=1,\n",
       "       param_grid={'cv__stop_words': [None, 'english'], 'cv__min_df': [1, 2, 3], 'cv__ngram_range': [(1, 1), (1, 2), (2, 2)]},\n",
       "       pre_dispatch='2*n_jobs', refit=True, return_train_score='warn',\n",
       "       scoring=None, verbose=0)"
      ]
     },
     "execution_count": 10,
     "metadata": {},
     "output_type": "execute_result"
    }
   ],
   "source": [
    "# Instantiating models \n",
    "\n",
    "mnb = MultinomialNB()\n",
    "cv = CountVectorizer()\n",
    "\n",
    "pipe = Pipeline([\n",
    "    ('cv', cv), \n",
    "    ('mnb', mnb)\n",
    "])\n",
    "\n",
    "params = { \n",
    "    \"cv__stop_words\": [None, \"english\"], \n",
    "    \"cv__min_df\": [1,2,3], \n",
    "    \"cv__ngram_range\": [(1,1), (1,2),(2,2)]\n",
    "}\n",
    "\n",
    "gs_mnb = GridSearchCV(pipe, \n",
    "                     param_grid = params)\n",
    "\n",
    "gs_mnb.fit(X_train, y_train)"
   ]
  },
  {
   "cell_type": "code",
   "execution_count": 11,
   "metadata": {},
   "outputs": [
    {
     "data": {
      "text/plain": [
       "{'cv__min_df': 2, 'cv__ngram_range': (1, 2), 'cv__stop_words': None}"
      ]
     },
     "execution_count": 11,
     "metadata": {},
     "output_type": "execute_result"
    }
   ],
   "source": [
    "gs_mnb.best_params_"
   ]
  },
  {
   "cell_type": "code",
   "execution_count": 12,
   "metadata": {},
   "outputs": [
    {
     "name": "stdout",
     "output_type": "stream",
     "text": [
      "3-fold Cross Validation Score on train data for Multinomial NB: 0.972820811492914\n",
      "Score on test data for Multinomial NB: 0.9650621118012422\n"
     ]
    }
   ],
   "source": [
    "print(\"3-fold Cross Validation Score on train data for Multinomial NB:\", gs_mnb.best_score_)\n",
    "print(\"Score on test data for Multinomial NB:\", gs_mnb.score(X_test, y_test))"
   ]
  },
  {
   "cell_type": "markdown",
   "metadata": {},
   "source": [
    "#### CVECT & Random Forest "
   ]
  },
  {
   "cell_type": "code",
   "execution_count": 54,
   "metadata": {},
   "outputs": [
    {
     "data": {
      "text/plain": [
       "GridSearchCV(cv=None, error_score='raise',\n",
       "       estimator=Pipeline(memory=None,\n",
       "     steps=[('cvect', CountVectorizer(analyzer='word', binary=False, decode_error='strict',\n",
       "        dtype=<class 'numpy.int64'>, encoding='utf-8', input='content',\n",
       "        lowercase=True, max_df=1.0, max_features=None, min_df=1,\n",
       "        ngram_range=(1, 1), preprocessor=None, stop_words=None,\n",
       "        stri...n_jobs=1,\n",
       "            oob_score=False, random_state=None, verbose=0,\n",
       "            warm_start=False))]),\n",
       "       fit_params=None, iid=True, n_jobs=1,\n",
       "       param_grid={'cvect__stop_words': [None, 'english'], 'cvect__min_df': [1, 2, 3], 'cvect__ngram_range': [(1, 1), (1, 2), (2, 2)], 'rf__criterion': ['gini', 'entropy'], 'rf__min_samples_split': [3, 4, 6, 9]},\n",
       "       pre_dispatch='2*n_jobs', refit=True, return_train_score='warn',\n",
       "       scoring=None, verbose=0)"
      ]
     },
     "execution_count": 54,
     "metadata": {},
     "output_type": "execute_result"
    }
   ],
   "source": [
    "cvect = CountVectorizer()\n",
    "rf = RandomForestClassifier()\n",
    "\n",
    "pipe_cvect_rf = Pipeline([ \n",
    "    (\"cvect\", cvect), \n",
    "    (\"rf\", rf)\n",
    "])\n",
    "\n",
    "params_cvect_rf  = { \n",
    "    \"cvect__stop_words\": [None, \"english\"], \n",
    "    \"cvect__min_df\": [1,2,3], \n",
    "    \"cvect__ngram_range\": [(1,1), (1,2),(2,2)],\n",
    "    \"rf__criterion\": [\"gini\", \"entropy\"], \n",
    "    \"rf__min_samples_split\": [3, 4, 6, 9]\n",
    "}\n",
    "\n",
    "gs_cvect_rf = GridSearchCV(pipe_cvect_rf, \n",
    "                           param_grid = params_cvect_rf)\n",
    "\n",
    "gs_cvect_rf.fit(X_train, y_train)"
   ]
  },
  {
   "cell_type": "code",
   "execution_count": 55,
   "metadata": {},
   "outputs": [
    {
     "data": {
      "text/plain": [
       "{'cvect__min_df': 2,\n",
       " 'cvect__ngram_range': (1, 2),\n",
       " 'cvect__stop_words': 'english',\n",
       " 'rf__criterion': 'gini',\n",
       " 'rf__min_samples_split': 4}"
      ]
     },
     "execution_count": 55,
     "metadata": {},
     "output_type": "execute_result"
    }
   ],
   "source": [
    "gs_cvect_rf.best_params_"
   ]
  },
  {
   "cell_type": "code",
   "execution_count": 56,
   "metadata": {},
   "outputs": [
    {
     "name": "stdout",
     "output_type": "stream",
     "text": [
      "Best Score on Training Data; Count Vectorizer + Random Forest Model: 0.9588429431178412\n",
      "Best Score on Testing Data; Count Vectorizer + Random Forest Model: 0.9588509316770186\n"
     ]
    }
   ],
   "source": [
    "print(\"Best Score on Training Data; Count Vectorizer + Random Forest Model:\", gs_cvect_rf.best_score_)\n",
    "print(\"Best Score on Testing Data; Count Vectorizer + Random Forest Model:\", gs_cvect_rf.score(X_test, y_test))"
   ]
  },
  {
   "cell_type": "markdown",
   "metadata": {},
   "source": [
    "### Confusion Matrix"
   ]
  },
  {
   "cell_type": "code",
   "execution_count": 15,
   "metadata": {},
   "outputs": [
    {
     "data": {
      "text/plain": [
       "array([1, 1, 0, 0, 1, 0, 1, 1, 0, 0, 1, 1, 0, 1, 0, 0, 1, 1, 0, 1, 0, 1,\n",
       "       1, 1, 1, 0, 0, 0, 0, 0, 0, 1, 1, 1, 0, 1, 0, 0, 1, 0, 0, 1, 1, 0,\n",
       "       1, 1, 0, 1, 0, 0, 0, 1, 1, 0, 1, 1, 1, 1, 0, 1, 1, 1, 1, 1, 0, 0,\n",
       "       0, 0, 0, 1, 1, 0, 1, 0, 0, 1, 0, 1, 0, 0, 0, 0, 1, 0, 0, 1, 1, 0,\n",
       "       0, 0, 0, 1, 1, 1, 1, 1, 0, 0, 1, 0])"
      ]
     },
     "execution_count": 15,
     "metadata": {},
     "output_type": "execute_result"
    }
   ],
   "source": [
    "test_prediction[0:100]"
   ]
  },
  {
   "cell_type": "code",
   "execution_count": 13,
   "metadata": {},
   "outputs": [
    {
     "name": "stdout",
     "output_type": "stream",
     "text": [
      "False Positives: 22\n",
      "False Negatives: 23\n",
      "True Negatives: 625\n",
      "True Positives: 618\n"
     ]
    }
   ],
   "source": [
    "test_prediction = gs_mnb.predict(X_test)\n",
    "\n",
    "tn, fp, fn, tp = confusion_matrix(y_test, test_prediction).ravel()\n",
    "\n",
    "print(\"False Positives: %s\" % fp)\n",
    "print(\"False Negatives: %s\" % fn)\n",
    "print(\"True Negatives: %s\" % tn)\n",
    "print(\"True Positives: %s\" % tp)"
   ]
  },
  {
   "cell_type": "code",
   "execution_count": 14,
   "metadata": {},
   "outputs": [
    {
     "name": "stdout",
     "output_type": "stream",
     "text": [
      "             precision    recall  f1-score   support\n",
      "\n",
      "          0       0.96      0.97      0.97       647\n",
      "          1       0.97      0.96      0.96       641\n",
      "\n",
      "avg / total       0.97      0.97      0.97      1288\n",
      "\n"
     ]
    }
   ],
   "source": [
    "from sklearn.metrics import classification_report\n",
    "\n",
    "print(classification_report(y_test, test_prediction))"
   ]
  },
  {
   "cell_type": "code",
   "execution_count": 18,
   "metadata": {},
   "outputs": [],
   "source": [
    "# Trying to find...\n",
    "    # an example of a post that properly classified \n",
    "    # an example of a post that did not properly classify \n",
    "    \n",
    "fn_fp = y_test != test_prediction\n",
    "fn_fp\n",
    "\n",
    "# where true = post is misclassified. \n",
    "# where false = the post classification is correct  "
   ]
  },
  {
   "cell_type": "code",
   "execution_count": 25,
   "metadata": {},
   "outputs": [],
   "source": [
    "df_fn_fp = pd.DataFrame(fn_fp)\n",
    "df_fn_fp.to_csv(\"../capstone/fn_fp_presidents.csv\")"
   ]
  },
  {
   "cell_type": "code",
   "execution_count": 50,
   "metadata": {},
   "outputs": [
    {
     "data": {
      "text/html": [
       "<div>\n",
       "<style scoped>\n",
       "    .dataframe tbody tr th:only-of-type {\n",
       "        vertical-align: middle;\n",
       "    }\n",
       "\n",
       "    .dataframe tbody tr th {\n",
       "        vertical-align: top;\n",
       "    }\n",
       "\n",
       "    .dataframe thead th {\n",
       "        text-align: right;\n",
       "    }\n",
       "</style>\n",
       "<table border=\"1\" class=\"dataframe\">\n",
       "  <thead>\n",
       "    <tr style=\"text-align: right;\">\n",
       "      <th></th>\n",
       "      <th>user</th>\n",
       "    </tr>\n",
       "  </thead>\n",
       "  <tbody>\n",
       "    <tr>\n",
       "      <th>863</th>\n",
       "      <td>True</td>\n",
       "    </tr>\n",
       "    <tr>\n",
       "      <th>264</th>\n",
       "      <td>True</td>\n",
       "    </tr>\n",
       "    <tr>\n",
       "      <th>616</th>\n",
       "      <td>True</td>\n",
       "    </tr>\n",
       "    <tr>\n",
       "      <th>3555</th>\n",
       "      <td>True</td>\n",
       "    </tr>\n",
       "    <tr>\n",
       "      <th>12</th>\n",
       "      <td>True</td>\n",
       "    </tr>\n",
       "    <tr>\n",
       "      <th>5922</th>\n",
       "      <td>True</td>\n",
       "    </tr>\n",
       "    <tr>\n",
       "      <th>5087</th>\n",
       "      <td>True</td>\n",
       "    </tr>\n",
       "    <tr>\n",
       "      <th>15</th>\n",
       "      <td>True</td>\n",
       "    </tr>\n",
       "    <tr>\n",
       "      <th>38</th>\n",
       "      <td>True</td>\n",
       "    </tr>\n",
       "    <tr>\n",
       "      <th>3311</th>\n",
       "      <td>True</td>\n",
       "    </tr>\n",
       "  </tbody>\n",
       "</table>\n",
       "</div>"
      ],
      "text/plain": [
       "      user\n",
       "863   True\n",
       "264   True\n",
       "616   True\n",
       "3555  True\n",
       "12    True\n",
       "5922  True\n",
       "5087  True\n",
       "15    True\n",
       "38    True\n",
       "3311  True"
      ]
     },
     "execution_count": 50,
     "metadata": {},
     "output_type": "execute_result"
    }
   ],
   "source": [
    "misclassification_mask = df_fn_fp.query('user == True')\n",
    "misclassification_mask[0:10]"
   ]
  },
  {
   "cell_type": "code",
   "execution_count": 49,
   "metadata": {},
   "outputs": [
    {
     "name": "stdout",
     "output_type": "stream",
     "text": [
      "created_at                                         2/12/16 0:50\n",
      "text          RT @TheEllenShow: .@BarackObama was here in 20...\n",
      "url           https://twitter.com/BarackObama/status/6979457...\n",
      "replies                                                     448\n",
      "retweets                                                   3675\n",
      "favorites                                                 11727\n",
      "user                                                          1\n",
      "party                                                         D\n",
      "state                                                        US\n",
      "Name: 863, dtype: object\n",
      "created_at                                        8/25/16 15:58\n",
      "text          RT @SecretaryJewell: .@NatlParkService _--- bd...\n",
      "url           https://twitter.com/BarackObama/status/7688400...\n",
      "replies                                                      57\n",
      "retweets                                                    425\n",
      "favorites                                                  1059\n",
      "user                                                          1\n",
      "party                                                         D\n",
      "state                                                        US\n",
      "Name: 264, dtype: object\n",
      "created_at                                        4/26/16 20:58\n",
      "text          \"Not to let the Constitution function is total...\n",
      "url           https://twitter.com/BarackObama/status/7250665...\n",
      "replies                                                     391\n",
      "retweets                                                   1700\n",
      "favorites                                                  3595\n",
      "user                                                          1\n",
      "party                                                         D\n",
      "state                                                        US\n",
      "Name: 616, dtype: object\n",
      "created_at                                        9/20/17 10:44\n",
      "text          The world is noticing, thanks! https://t.co/2N...\n",
      "url           https://twitter.com/realDonaldTrump/status/910...\n",
      "replies                                                    9224\n",
      "retweets                                                  12427\n",
      "favorites                                                 59085\n",
      "user                                                          0\n",
      "party                                                         R\n",
      "state                                                        US\n",
      "Name: 3555, dtype: object\n",
      "created_at                                         9/7/17 23:06\n",
      "text          Americans always answer the call. https://t.co...\n",
      "url           https://twitter.com/BarackObama/status/9059303...\n",
      "replies                                                    9214\n",
      "retweets                                                 101788\n",
      "favorites                                                335960\n",
      "user                                                          1\n",
      "party                                                         D\n",
      "state                                                        US\n",
      "Name: 12, dtype: object\n",
      "created_at                                        10/10/16 2:07\n",
      "text          The world is most peaceful, and most prosperou...\n",
      "url           https://twitter.com/realDonaldTrump/status/785...\n",
      "replies                                                     729\n",
      "retweets                                                   7654\n",
      "favorites                                                 20135\n",
      "user                                                          0\n",
      "party                                                         R\n",
      "state                                                        US\n",
      "Name: 5922, dtype: object\n",
      "created_at                                        1/17/17 19:36\n",
      "text          RT @MoskowitzEva: .@BetsyDeVos has the talent,...\n",
      "url           https://twitter.com/realDonaldTrump/status/821...\n",
      "replies                                                    6790\n",
      "retweets                                                   6802\n",
      "favorites                                                 27729\n",
      "user                                                          0\n",
      "party                                                         R\n",
      "state                                                        US\n",
      "Name: 5087, dtype: object\n",
      "created_at                                        8/17/17 19:15\n",
      "text          Michelle and I are thinking of the victims and...\n",
      "url           https://twitter.com/BarackObama/status/8982619...\n",
      "replies                                                   26424\n",
      "retweets                                                 323911\n",
      "favorites                                               1632230\n",
      "user                                                          1\n",
      "party                                                         D\n",
      "state                                                        US\n",
      "Name: 15, dtype: object\n",
      "created_at                                        2/14/17 15:34\n",
      "text          Happy Valentine---s Day, @michelleobama! Almos...\n",
      "url           https://twitter.com/BarackObama/status/8315271...\n",
      "replies                                                   15788\n",
      "retweets                                                 263004\n",
      "favorites                                               1118302\n",
      "user                                                          1\n",
      "party                                                         D\n",
      "state                                                        US\n",
      "Name: 38, dtype: object\n",
      "created_at                                       10/12/17 17:06\n",
      "text          The time has come to take action to IMPROVE ac...\n",
      "url           https://twitter.com/realDonaldTrump/status/918...\n",
      "replies                                                   14809\n",
      "retweets                                                  12871\n",
      "favorites                                                 52133\n",
      "user                                                          0\n",
      "party                                                         R\n",
      "state                                                        US\n",
      "Name: 3311, dtype: object\n",
      "created_at                                        6/28/17 21:15\n",
      "text          Today, I hosted an immigration roundtable ahea...\n",
      "url           https://twitter.com/realDonaldTrump/status/880...\n",
      "replies                                                    4082\n",
      "retweets                                                   8429\n",
      "favorites                                                 39200\n",
      "user                                                          0\n",
      "party                                                         R\n",
      "state                                                        US\n",
      "Name: 4227, dtype: object\n",
      "created_at                                        11/9/15 21:40\n",
      "text          \"It was never about yes he can---it was about ...\n",
      "url           https://twitter.com/BarackObama/status/6638335...\n",
      "replies                                                     130\n",
      "retweets                                                    454\n",
      "favorites                                                  1188\n",
      "user                                                          1\n",
      "party                                                         D\n",
      "state                                                        US\n",
      "Name: 1259, dtype: object\n",
      "created_at                                        11/2/16 13:18\n",
      "text          \"@PYNance: Evangelical women live at #trumptow...\n",
      "url           https://twitter.com/realDonaldTrump/status/793...\n",
      "replies                                                    1720\n",
      "retweets                                                   7285\n",
      "favorites                                                 19259\n",
      "user                                                          0\n",
      "party                                                         R\n",
      "state                                                        US\n",
      "Name: 5519, dtype: object\n",
      "created_at                                         5/8/15 17:12\n",
      "text          \"If you are opposed to these smart, progress t...\n",
      "url           https://twitter.com/BarackObama/status/5967243...\n",
      "replies                                                     185\n",
      "retweets                                                    512\n",
      "favorites                                                  1089\n",
      "user                                                          1\n",
      "party                                                         D\n",
      "state                                                        US\n",
      "Name: 2024, dtype: object\n"
     ]
    }
   ],
   "source": [
    "# Misclassification \n",
    "print(df_pres.iloc[863])\n",
    "print(df_pres.iloc[264])\n",
    "print(df_pres.iloc[616])\n",
    "print(df_pres.iloc[3555])\n",
    "print(df_pres.iloc[12])\n",
    "print(df_pres.iloc[5922])\n",
    "print(df_pres.iloc[5087])\n",
    "print(df_pres.iloc[15])\n",
    "print(df_pres.iloc[38])\n",
    "print(df_pres.iloc[3311])\n",
    "print(df_pres.iloc[4227])\n",
    "print(df_pres.iloc[1259])\n",
    "print(df_pres.iloc[5519])\n",
    "print(df_pres.iloc[2024])"
   ]
  },
  {
   "cell_type": "markdown",
   "metadata": {},
   "source": [
    "#### Most Predictive Words"
   ]
  },
  {
   "cell_type": "code",
   "execution_count": 57,
   "metadata": {},
   "outputs": [
    {
     "data": {
      "text/plain": [
       "{'cvect__min_df': 2,\n",
       " 'cvect__ngram_range': (1, 2),\n",
       " 'cvect__stop_words': 'english',\n",
       " 'rf__criterion': 'gini',\n",
       " 'rf__min_samples_split': 4}"
      ]
     },
     "execution_count": 57,
     "metadata": {},
     "output_type": "execute_result"
    }
   ],
   "source": [
    "# What were the best parameters from my random forest model?\n",
    "# Going to pull those in below\n",
    "gs_cvect_rf.best_params_"
   ]
  },
  {
   "cell_type": "code",
   "execution_count": 58,
   "metadata": {},
   "outputs": [
    {
     "name": "stdout",
     "output_type": "stream",
     "text": [
      "<class 'numpy.ndarray'>\n"
     ]
    },
    {
     "data": {
      "text/plain": [
       "RandomForestClassifier(bootstrap=True, class_weight=None, criterion='gini',\n",
       "            max_depth=None, max_features='auto', max_leaf_nodes=None,\n",
       "            min_impurity_decrease=0.0, min_impurity_split=None,\n",
       "            min_samples_leaf=1, min_samples_split=4,\n",
       "            min_weight_fraction_leaf=0.0, n_estimators=10, n_jobs=1,\n",
       "            oob_score=False, random_state=None, verbose=0,\n",
       "            warm_start=False)"
      ]
     },
     "execution_count": 58,
     "metadata": {},
     "output_type": "execute_result"
    }
   ],
   "source": [
    "corpus = df_pres['text']\n",
    "\n",
    "vect = CountVectorizer(ngram_range = (1,2), \n",
    "                      stop_words = \"english\", \n",
    "                      min_df = 2)\n",
    "\n",
    "vect.fit(corpus)\n",
    "\n",
    "transformed_corpus = vect.transform(corpus)\n",
    "\n",
    "array_corpus = transformed_corpus.toarray()\n",
    "print(type(array_corpus))\n",
    "\n",
    "# Using Best Model - Naive Bayes \n",
    "best_model = RandomForestClassifier(criterion= 'gini', \n",
    "                                    min_samples_split = 4)\n",
    "\n",
    "best_model.fit(array_corpus, y)"
   ]
  },
  {
   "cell_type": "code",
   "execution_count": 83,
   "metadata": {},
   "outputs": [
    {
     "data": {
      "image/png": "[encoded data removed]",
      "text/plain": [
       "<Figure size 1944x720 with 1 Axes>"
      ]
     },
     "metadata": {},
     "output_type": "display_data"
    }
   ],
   "source": [
    "fig, ax = plt.subplots(figsize=(27,10))  # blank plot \n",
    "\n",
    "x = np.arange(17) \n",
    "important_predictors = [(0.05442929510814468+0.047537983677910685), 0.059829623348979365,\n",
    "                        0.04714937667855372, \n",
    "                       0.02269680908039539, \n",
    "                        0.01403672821529004, \n",
    "                        0.012774790042760359, \n",
    "                       0.0126806472832167, \n",
    "                        0.009078597772117464, 0.00898885586359811, \n",
    "                       0.008194140970740319, 0.008062566524279332, \n",
    "                       0.00800131808028319, 0.0078046349460213936, 0.007376237205935313, \n",
    "                       0.0073241024795964536, 0.005809063362360657, 0.005701045736877358]   \n",
    "plt.bar(x, important_predictors)\n",
    "plt.yticks( color = 'white', fontweight='bold', fontsize='13' )\n",
    "plt.xticks(x, ('obama', 'president', 'actonclimate', 'ofa', 'rt whitehouse', 'thank'\n",
    "              , 'realdonaldtrump', 'read', 'great', 'climate', 'health', 'climate change', \n",
    "              'trump', 'getcovered', 'hillary' , 'whitehouse', 'fake'), \n",
    "          rotation = 45, color = 'white', fontweight='bold', fontsize='20')   \n",
    "plt.xlabel('Predictive Words', fontweight='bold', \n",
    "           color = 'lightblue', fontsize='22')\n",
    "\n",
    "plt.show()"
   ]
  },
  {
   "cell_type": "code",
   "execution_count": 59,
   "metadata": {},
   "outputs": [
    {
     "data": {
      "text/plain": [
       "[(0.12199607389304272, 'http'),\n",
       " (0.059829623348979365, 'president'),\n",
       " (0.05442929510814468, 'president obama'),\n",
       " (0.047537983677910685, 'obama'),\n",
       " (0.02269680908039539, 'actonclimate'),\n",
       " (0.01403672821529004, 'ofa'),\n",
       " (0.012774790042760359, 'rt whitehouse'),\n",
       " (0.0126806472832167, 'thank'),\n",
       " (0.009078597772117464, 'realdonaldtrump'),\n",
       " (0.00898885586359811, 'read'),\n",
       " (0.008895996151820863, 'great'),\n",
       " (0.008647705826921294, 'https'),\n",
       " (0.008194140970740319, 'climate'),\n",
       " (0.008062566524279332, 'health'),\n",
       " (0.00800131808028319, 'climate change'),\n",
       " (0.0078046349460213936, 'trump'),\n",
       " (0.007376237205935313, 'getcovered'),\n",
       " (0.0073241024795964536, 'hillary'),\n",
       " (0.005809063362360657, 'whitehouse'),\n",
       " (0.005701045736877358, 'fake'),\n",
       " (0.00537013343744604, 'add'),\n",
       " (0.00528221395367013, 'doyourjob https'),\n",
       " (0.00499562608574964, 'progress'),\n",
       " (0.004881031272659956, 'gun'),\n",
       " (0.004508122952027101, 'doyourjob'),\n",
       " (0.004363794094508882, 'enter'),\n",
       " (0.004248169598197594, 'sotu'),\n",
       " (0.004232829214698699, 'economy'),\n",
       " (0.004017873105054198, 'americans'),\n",
       " (0.003986012547416322, 'draintheswamp'),\n",
       " (0.003964630613039686, 'change'),\n",
       " (0.003947684880447971, 'court'),\n",
       " (0.003912401421645296, 'live president'),\n",
       " (0.003718542267996947, 'watch president'),\n",
       " (0.0037151096806258303, 'actonclimate https'),\n",
       " (0.0037079683627609093, 'actonclimate http'),\n",
       " (0.003701568855688267, 'health care'),\n",
       " (0.0035955756824119257, 'deadline'),\n",
       " (0.003451980243584225, 'garland'),\n",
       " (0.003439319268049705, 'clinton'),\n",
       " (0.0033858258807473707, 'senate'),\n",
       " (0.003317556841210361, 'obama sotu'),\n",
       " (0.003244459083366763, 'getcovered https'),\n",
       " (0.0031986903040701355, 'election'),\n",
       " (0.00313948608879107, 'raisethewage'),\n",
       " (0.003125733539426775, 'rate'),\n",
       " (0.003115426585942963, 'foxandfriends'),\n",
       " (0.003112983880362822, 'retweet'),\n",
       " (0.003054045573040546, 've'),\n",
       " (0.0030430246967115605, 'loveislove'),\n",
       " (0.003032778835408418, 'hearing'),\n",
       " (0.00299007467089714, 'fair'),\n",
       " (0.002950081491027782, 'fight'),\n",
       " (0.0028857716055759163, 'supreme'),\n",
       " (0.002879040777359295, 'equality'),\n",
       " (0.002716581570263059, 'healthcare'),\n",
       " (0.002496874283620775, 'organizing'),\n",
       " (0.0022972897669310635, 'job growth'),\n",
       " (0.0022853128715824077, 'north'),\n",
       " (0.002278237565469985, 'gun violence'),\n",
       " (0.002263080302101812, 'congress'),\n",
       " (0.002217497280108591, 'democrats'),\n",
       " (0.0022158375997746484, 'judge garland'),\n",
       " (0.0022092685412336633, 'bigleaguetruth'),\n",
       " (0.002077234209111868, 'address president'),\n",
       " (0.002062640697837311, 'carbon pollution'),\n",
       " (0.0020518317432788044, 'chance'),\n",
       " (0.0020179743225513503, 'happy'),\n",
       " (0.002003205425847231, 'sotu https'),\n",
       " (0.0019579949791865827, 'chip'),\n",
       " (0.001927840766225098, 'make america'),\n",
       " (0.0019134329075257202, 'media'),\n",
       " (0.0018802632650212023, 'russia'),\n",
       " (0.0018150052521315712, 'obama speaking'),\n",
       " (0.0018055893332869478, 'americafirst'),\n",
       " (0.0017875669674074731, 'miss'),\n",
       " (0.0017645071225164395, 'big'),\n",
       " (0.00172563288756951, 'leadontrade'),\n",
       " (0.001702509468398587, 'year'),\n",
       " (0.0016799881578124433, '2015'),\n",
       " (0.0016666589781045601, 'check'),\n",
       " (0.001643023295188731, 'obama http'),\n",
       " (0.0016225647419954858, 'fake news'),\n",
       " (0.0015965869736323738, 'scotus'),\n",
       " (0.001558044728966587, 'truth team'),\n",
       " (0.0015202504404468909, 'florida'),\n",
       " (0.0015201508386420031, 'rt foxandfriends'),\n",
       " (0.0015189781155031255, 'care'),\n",
       " (0.0014974694068344418, 'added'),\n",
       " (0.0014574361892388046, 'rt'),\n",
       " (0.001445673378740475, 'ofa truth'),\n",
       " (0.001441553074799929, 'great honor'),\n",
       " (0.0014364874210672884, 'opportunityforall'),\n",
       " (0.0014271734623191143, 'safe'),\n",
       " (0.0014215471521725638, 'maga'),\n",
       " (0.001412194010217414, 'good'),\n",
       " (0.0013867426381386134, 'getcovered http'),\n",
       " (0.0013842838912431483, 'foxnews'),\n",
       " (0.0013766150069509744, 'grassroots'),\n",
       " (0.0013446528241521133, 'republican')]"
      ]
     },
     "execution_count": 59,
     "metadata": {},
     "output_type": "execute_result"
    }
   ],
   "source": [
    "list(sorted(zip(best_model.feature_importances_, vect.get_feature_names()), reverse=True))[0:100]"
   ]
  },
  {
   "cell_type": "code",
   "execution_count": 60,
   "metadata": {},
   "outputs": [],
   "source": [
    "import matplotlib.pyplot as plt \n",
    "import seaborn as sns"
   ]
  },
  {
   "cell_type": "code",
   "execution_count": null,
   "metadata": {},
   "outputs": [],
   "source": []
  }
 ],
 "metadata": {
  "kernelspec": {
   "display_name": "Python 3",
   "language": "python",
   "name": "python3"
  },
  "language_info": {
   "codemirror_mode": {
    "name": "ipython",
    "version": 3
   },
   "file_extension": ".py",
   "mimetype": "text/x-python",
   "name": "python",
   "nbconvert_exporter": "python",
   "pygments_lexer": "ipython3",
   "version": "3.6.5"
  }
 },
 "nbformat": 4,
 "nbformat_minor": 2
}
